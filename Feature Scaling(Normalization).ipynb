{
 "cells": [
  {
   "cell_type": "code",
   "execution_count": 3,
   "id": "0a4b3027-21b4-4eba-bd85-6119a24017cf",
   "metadata": {},
   "outputs": [],
   "source": [
    "#Normalization is used for Skew distributed data \n",
    "import numpy as np\n",
    "import pandas as pd\n",
    "import matplotlib.pyplot as plt\n",
    "import seaborn as sns\n",
    "from sklearn.preprocessing import MinMaxScaler"
   ]
  },
  {
   "cell_type": "code",
   "execution_count": 5,
   "id": "ecdbffbf-2b4b-4850-81cf-ac154fb930c1",
   "metadata": {},
   "outputs": [],
   "source": [
    "Data = np.random.uniform(low = 10 , high = 100, size = (1000,2))"
   ]
  },
  {
   "cell_type": "code",
   "execution_count": 6,
   "id": "59c842c8-39cd-43d9-999c-6f2247d6cbbb",
   "metadata": {},
   "outputs": [
    {
     "data": {
      "text/html": [
       "<div>\n",
       "<style scoped>\n",
       "    .dataframe tbody tr th:only-of-type {\n",
       "        vertical-align: middle;\n",
       "    }\n",
       "\n",
       "    .dataframe tbody tr th {\n",
       "        vertical-align: top;\n",
       "    }\n",
       "\n",
       "    .dataframe thead th {\n",
       "        text-align: right;\n",
       "    }\n",
       "</style>\n",
       "<table border=\"1\" class=\"dataframe\">\n",
       "  <thead>\n",
       "    <tr style=\"text-align: right;\">\n",
       "      <th></th>\n",
       "      <th>Feature1</th>\n",
       "      <th>Feature2</th>\n",
       "    </tr>\n",
       "  </thead>\n",
       "  <tbody>\n",
       "    <tr>\n",
       "      <th>0</th>\n",
       "      <td>76.961519</td>\n",
       "      <td>99.198576</td>\n",
       "    </tr>\n",
       "    <tr>\n",
       "      <th>1</th>\n",
       "      <td>52.649067</td>\n",
       "      <td>65.733077</td>\n",
       "    </tr>\n",
       "    <tr>\n",
       "      <th>2</th>\n",
       "      <td>74.825425</td>\n",
       "      <td>66.143699</td>\n",
       "    </tr>\n",
       "    <tr>\n",
       "      <th>3</th>\n",
       "      <td>48.496743</td>\n",
       "      <td>61.471185</td>\n",
       "    </tr>\n",
       "    <tr>\n",
       "      <th>4</th>\n",
       "      <td>98.176764</td>\n",
       "      <td>94.241279</td>\n",
       "    </tr>\n",
       "    <tr>\n",
       "      <th>...</th>\n",
       "      <td>...</td>\n",
       "      <td>...</td>\n",
       "    </tr>\n",
       "    <tr>\n",
       "      <th>995</th>\n",
       "      <td>72.834437</td>\n",
       "      <td>56.326579</td>\n",
       "    </tr>\n",
       "    <tr>\n",
       "      <th>996</th>\n",
       "      <td>29.241397</td>\n",
       "      <td>23.932848</td>\n",
       "    </tr>\n",
       "    <tr>\n",
       "      <th>997</th>\n",
       "      <td>77.742281</td>\n",
       "      <td>50.675459</td>\n",
       "    </tr>\n",
       "    <tr>\n",
       "      <th>998</th>\n",
       "      <td>97.620163</td>\n",
       "      <td>33.039755</td>\n",
       "    </tr>\n",
       "    <tr>\n",
       "      <th>999</th>\n",
       "      <td>49.365356</td>\n",
       "      <td>82.321693</td>\n",
       "    </tr>\n",
       "  </tbody>\n",
       "</table>\n",
       "<p>1000 rows × 2 columns</p>\n",
       "</div>"
      ],
      "text/plain": [
       "      Feature1   Feature2\n",
       "0    76.961519  99.198576\n",
       "1    52.649067  65.733077\n",
       "2    74.825425  66.143699\n",
       "3    48.496743  61.471185\n",
       "4    98.176764  94.241279\n",
       "..         ...        ...\n",
       "995  72.834437  56.326579\n",
       "996  29.241397  23.932848\n",
       "997  77.742281  50.675459\n",
       "998  97.620163  33.039755\n",
       "999  49.365356  82.321693\n",
       "\n",
       "[1000 rows x 2 columns]"
      ]
     },
     "execution_count": 6,
     "metadata": {},
     "output_type": "execute_result"
    }
   ],
   "source": [
    "df = pd.DataFrame(Data , columns = ['Feature1','Feature2'])\n",
    "df"
   ]
  },
  {
   "cell_type": "code",
   "execution_count": 7,
   "id": "c4e1bdda-0e89-4d3a-8758-f26c259f7342",
   "metadata": {},
   "outputs": [],
   "source": [
    "min = MinMaxScaler()\n",
    "Transformed_Data = min.fit_transform(df)"
   ]
  },
  {
   "cell_type": "code",
   "execution_count": 8,
   "id": "69bbb4a3-cfaa-4a85-abe5-b2ba9f336bd3",
   "metadata": {},
   "outputs": [
    {
     "data": {
      "text/plain": [
       "array([[0.74815785, 0.99165217],\n",
       "       [0.47615797, 0.61888312],\n",
       "       [0.72425991, 0.623457  ],\n",
       "       ...,\n",
       "       [0.75689276, 0.45115773],\n",
       "       [0.97928008, 0.25471528],\n",
       "       [0.43942088, 0.80366216]])"
      ]
     },
     "execution_count": 8,
     "metadata": {},
     "output_type": "execute_result"
    }
   ],
   "source": [
    "Transformed_Data"
   ]
  },
  {
   "cell_type": "code",
   "execution_count": 9,
   "id": "5f5b226c-f60f-47c1-969c-9c4f88c64f8a",
   "metadata": {},
   "outputs": [
    {
     "data": {
      "text/html": [
       "<div>\n",
       "<style scoped>\n",
       "    .dataframe tbody tr th:only-of-type {\n",
       "        vertical-align: middle;\n",
       "    }\n",
       "\n",
       "    .dataframe tbody tr th {\n",
       "        vertical-align: top;\n",
       "    }\n",
       "\n",
       "    .dataframe thead th {\n",
       "        text-align: right;\n",
       "    }\n",
       "</style>\n",
       "<table border=\"1\" class=\"dataframe\">\n",
       "  <thead>\n",
       "    <tr style=\"text-align: right;\">\n",
       "      <th></th>\n",
       "      <th>Feature1</th>\n",
       "      <th>Feature2</th>\n",
       "    </tr>\n",
       "  </thead>\n",
       "  <tbody>\n",
       "    <tr>\n",
       "      <th>0</th>\n",
       "      <td>0.748158</td>\n",
       "      <td>0.991652</td>\n",
       "    </tr>\n",
       "    <tr>\n",
       "      <th>1</th>\n",
       "      <td>0.476158</td>\n",
       "      <td>0.618883</td>\n",
       "    </tr>\n",
       "    <tr>\n",
       "      <th>2</th>\n",
       "      <td>0.724260</td>\n",
       "      <td>0.623457</td>\n",
       "    </tr>\n",
       "    <tr>\n",
       "      <th>3</th>\n",
       "      <td>0.429703</td>\n",
       "      <td>0.571410</td>\n",
       "    </tr>\n",
       "    <tr>\n",
       "      <th>4</th>\n",
       "      <td>0.985507</td>\n",
       "      <td>0.936433</td>\n",
       "    </tr>\n",
       "    <tr>\n",
       "      <th>...</th>\n",
       "      <td>...</td>\n",
       "      <td>...</td>\n",
       "    </tr>\n",
       "    <tr>\n",
       "      <th>995</th>\n",
       "      <td>0.701985</td>\n",
       "      <td>0.514105</td>\n",
       "    </tr>\n",
       "    <tr>\n",
       "      <th>996</th>\n",
       "      <td>0.214281</td>\n",
       "      <td>0.153274</td>\n",
       "    </tr>\n",
       "    <tr>\n",
       "      <th>997</th>\n",
       "      <td>0.756893</td>\n",
       "      <td>0.451158</td>\n",
       "    </tr>\n",
       "    <tr>\n",
       "      <th>998</th>\n",
       "      <td>0.979280</td>\n",
       "      <td>0.254715</td>\n",
       "    </tr>\n",
       "    <tr>\n",
       "      <th>999</th>\n",
       "      <td>0.439421</td>\n",
       "      <td>0.803662</td>\n",
       "    </tr>\n",
       "  </tbody>\n",
       "</table>\n",
       "<p>1000 rows × 2 columns</p>\n",
       "</div>"
      ],
      "text/plain": [
       "     Feature1  Feature2\n",
       "0    0.748158  0.991652\n",
       "1    0.476158  0.618883\n",
       "2    0.724260  0.623457\n",
       "3    0.429703  0.571410\n",
       "4    0.985507  0.936433\n",
       "..        ...       ...\n",
       "995  0.701985  0.514105\n",
       "996  0.214281  0.153274\n",
       "997  0.756893  0.451158\n",
       "998  0.979280  0.254715\n",
       "999  0.439421  0.803662\n",
       "\n",
       "[1000 rows x 2 columns]"
      ]
     },
     "execution_count": 9,
     "metadata": {},
     "output_type": "execute_result"
    }
   ],
   "source": [
    "Transformed_DataFrame = pd.DataFrame(Transformed_Data , columns = ['Feature1','Feature2'])\n",
    "Transformed_DataFrame"
   ]
  },
  {
   "cell_type": "code",
   "execution_count": null,
   "id": "f1059c45-9038-44ac-b826-26559aa79482",
   "metadata": {},
   "outputs": [],
   "source": []
  }
 ],
 "metadata": {
  "kernelspec": {
   "display_name": "Python 3 (ipykernel)",
   "language": "python",
   "name": "python3"
  },
  "language_info": {
   "codemirror_mode": {
    "name": "ipython",
    "version": 3
   },
   "file_extension": ".py",
   "mimetype": "text/x-python",
   "name": "python",
   "nbconvert_exporter": "python",
   "pygments_lexer": "ipython3",
   "version": "3.11.7"
  }
 },
 "nbformat": 4,
 "nbformat_minor": 5
}
